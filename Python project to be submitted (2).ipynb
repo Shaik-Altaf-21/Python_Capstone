{
 "cells": [
  {
   "cell_type": "markdown",
   "id": "a37e83bd-5058-408a-ae97-1ebe2380f3fc",
   "metadata": {},
   "source": [
    "PYTHON CAPSTONE PROJECT"
   ]
  },
  {
   "cell_type": "markdown",
   "id": "09176403-3add-4803-8eb3-79518520ef5c",
   "metadata": {},
   "source": [
    "TASK - 1\n",
    "\n",
    "There are three different tables as given above. Please make three dataframe in python and save them as three .csv files. From Task 2 to Task 10, use the saved .csv files only."
   ]
  },
  {
   "cell_type": "code",
   "execution_count": 12,
   "id": "f2bad0d7-08e3-42ac-8b54-735324410c8e",
   "metadata": {},
   "outputs": [],
   "source": [
    "# Import the pandas library for data manipulation and analysis\n",
    "import pandas as pd\n",
    "\n",
    "# -------------------- Project DataFrame --------------------\n",
    "\n",
    "# Define a dictionary containing project-related data\n",
    "project_data = {\n",
    "    \"ID\": [\"A001\", \"A002\", \"A003\", \"A004\", \"A005\", \"A002\", \"A005\",\"A003\", \"A001\", \"A003\", \"A001\", \"A004\",\"A004\", \"A005\"],  # Employee IDs\n",
    "    \"Project\": [\"Project 1\", \"Project 2\", \"Project 3\", \"Project 4\", \"Project 5\", \"Project 6\", \"Project 7\",\n",
    "                \"Project 8\",\"Project 9\",\"Project 10\", \"Project 11\", \"Project 12\", \"Project 13\",\"Project 14\"],  # Project names\n",
    "    \"Cost\": [1002000, 2000000, 4500000, 5500000, None, 680000, 400000, 350000, None, 300000, 2000000, 1000000,3000000,200000],  # Cost of projects (some missing)\n",
    "    \"Status\": [\"Finished\", \"Ongoing\", \"Finished\", \"Ongoing\", \"Finished\", \"Failed\",\"Finished\",\"Failed\",\"Ongoing\",\n",
    "               \"Finished\", \"Failed\", \"Ongoing\", \"Finished\", \"Finished\"]  # Current status of each project\n",
    "}\n",
    "\n",
    "# Create a DataFrame called df_project from the project_data dictionary\n",
    "df_project = pd.DataFrame(project_data)\n",
    "\n",
    "# -------------------- Employee DataFrame --------------------\n",
    "\n",
    "# Define a dictionary containing employee information\n",
    "employee_data = {\n",
    "    \"ID\": [\"A001\", \"A002\", \"A003\", \"A004\", \"A005\"],  # Employee IDs\n",
    "    \"Name\": [\"John Alter\", \"Alice Luxumberg\", \"Tom Sabestine\", \"Nina Adgra\", \"Amy Johny\"],  # Names\n",
    "    \"Gender\": [\"M\", \"F\", \"M\", \"F\", \"F\"],  # Gender of employees\n",
    "    \"City\": [\"Paris\", \"London\", \"Berlin\", \"Newyork\", \"Madrid\"],  # City of residence\n",
    "    \"Age\": [25, 27, 29, 31, 30]  # Age of employees\n",
    "}\n",
    "\n",
    "# Create a DataFrame called df_employee from the employee_data dictionary\n",
    "df_employee = pd.DataFrame(employee_data)\n",
    "\n",
    "# -------------------- Designation Level DataFrame --------------------\n",
    "\n",
    "# Create a DataFrame df_seniority that contains employee ID and their designation level\n",
    "df_seniority = pd.DataFrame({\n",
    "    \"ID\": [\"A001\", \"A002\", \"A003\", \"A004\", \"A005\"],  # Employee IDs\n",
    "    \"Designation Level\": [2, 2, 3, 2, 3]  # Designation level (e.g., 2 = junior, 3 = senior)\n",
    "})\n",
    "\n",
    "# -------------------- Save DataFrames as CSV Files --------------------\n",
    "\n",
    "# Save the df_project DataFrame to a CSV file named \"project.csv\" without the index column\n",
    "df_project.to_csv(\"project.csv\", index=False)\n",
    "\n",
    "# Save the df_employee DataFrame to a CSV file named \"employee.csv\" without the index column\n",
    "df_employee.to_csv(\"employee.csv\", index=False)\n",
    "\n",
    "# Save the df_seniority DataFrame to a CSV file named \"seniority.csv\" without the index column\n",
    "df_seniority.to_csv(\"seniority.csv\", index=False)"
   ]
  },
  {
   "cell_type": "markdown",
   "id": "e8254944-2907-415b-950b-66b0cbc793e1",
   "metadata": {},
   "source": [
    "TASK - 2\n",
    "\n",
    "The cost column in the dataframe “Project” has some missing values. Your task is to compute these missing values. Replace the missing values by running average. You should use the “For” loop for this task.  "
   ]
  },
  {
   "cell_type": "code",
   "execution_count": 13,
   "id": "2c19c17c-bf3f-470b-8606-487dadb8f8b1",
   "metadata": {},
   "outputs": [],
   "source": [
    "# Import the numpy library, commonly used for numerical operations\n",
    "import numpy as np\n",
    "\n",
    "# Read the \"project.csv\" file into a DataFrame called df_project\n",
    "df_project = pd.read_csv(\"project.csv\")\n",
    "\n",
    "# Convert the \"Cost\" column from the DataFrame into a list for easier manipulation\n",
    "costs = df_project[\"Cost\"].tolist()\n",
    "\n",
    "# Initialize a variable to keep the running sum of costs (excluding NaNs)\n",
    "running_sum = 0\n",
    "\n",
    "# Initialize a counter to keep track of the number of valid (non-NaN) cost values\n",
    "count = 0\n",
    "\n",
    "# Loop through each cost in the list\n",
    "for i in range(len(costs)):\n",
    "    # Check if the current cost is NaN (missing value)\n",
    "    if np.isnan(costs[i]):\n",
    "        # If there are previous valid cost values, replace NaN with the average so far\n",
    "        if count > 0:\n",
    "            costs[i] = running_sum / count\n",
    "        # If no valid values yet, replace NaN with 0\n",
    "        else:\n",
    "            costs[i] = 0\n",
    "    # Add the current (now valid) cost to the running sum\n",
    "    running_sum += costs[i]\n",
    "    # Increase the count of valid entries\n",
    "    count += 1\n",
    "\n",
    "# Update the \"Cost\" column in the DataFrame with the filled list\n",
    "df_project[\"Cost\"] = costs\n",
    "\n",
    "# Save the updated DataFrame back to \"project.csv\", without the index column\n",
    "df_project.to_csv(\"project.csv\", index=False)"
   ]
  },
  {
   "cell_type": "markdown",
   "id": "7c63c682-102e-4efe-b47d-8622687675ce",
   "metadata": {},
   "source": [
    "TASK - 3\n",
    "\n",
    "Split the name column in the Employee dataframe into two new columns “First Name”,and “LastName” and remove the older “name” column."
   ]
  },
  {
   "cell_type": "code",
   "execution_count": 14,
   "id": "b0a11356-c902-4c93-82aa-e84891fa513a",
   "metadata": {},
   "outputs": [],
   "source": [
    "# Load the employee.csv file into a DataFrame\n",
    "df_employee = pd.read_csv(\"employee.csv\")\n",
    "\n",
    "# Split the 'Name' column into two new columns: 'First Name' and 'Last Name'\n",
    "df_employee[['First Name', 'Last Name']] = df_employee['Name'].str.split(' ', n=1, expand=True)\n",
    "\n",
    "# Drop the original 'Name' column from the DataFrame\n",
    "df_employee.drop(columns=['Name'], inplace=True)\n",
    "\n",
    "# Save the updated DataFrame back to employee.csv\n",
    "df_employee.to_csv(\"employee.csv\", index=False)"
   ]
  },
  {
   "cell_type": "markdown",
   "id": "b94ee876-44f2-4e56-984e-527c62d877ab",
   "metadata": {},
   "source": [
    "TASK - 4\n",
    "\n",
    "Join all three dataframes in one single dataframe. Name it “Final”"
   ]
  },
  {
   "cell_type": "code",
   "execution_count": 15,
   "id": "ddabd754-3677-4d57-8b96-a87bbcdf9dcc",
   "metadata": {},
   "outputs": [],
   "source": [
    "# Read the project data from \"project.csv\" into a DataFrame\n",
    "df_project = pd.read_csv(\"project.csv\")\n",
    "\n",
    "# Read the employee data from \"employee.csv\" into a DataFrame\n",
    "df_employee = pd.read_csv(\"employee.csv\")\n",
    "\n",
    "# Read the seniority (designation level) data from \"seniority.csv\" into a DataFrame\n",
    "df_seniority = pd.read_csv(\"seniority.csv\")\n",
    "\n",
    "# Merge project and employee data on the common \"ID\" column\n",
    "final = pd.merge(df_project, df_employee, on=\"ID\")\n",
    "\n",
    "# Merge the resulting DataFrame with seniority data on the same \"ID\" column\n",
    "final = pd.merge(final, df_seniority, on=\"ID\")\n",
    "\n",
    "# Save the final merged DataFrame to \"final.csv\" without writing the index column\n",
    "final.to_csv(\"final.csv\", index=False)"
   ]
  },
  {
   "cell_type": "markdown",
   "id": "b68a5799-767a-4d12-a976-bedfb5391bac",
   "metadata": {},
   "source": [
    "TASK - 5\n",
    "\n",
    "Add a new bonus column in the Final dataframe. Give a 5% bonus concerning project cost only to employees who have finished the projects."
   ]
  },
  {
   "cell_type": "code",
   "execution_count": 16,
   "id": "5aa24764-88cf-4b2e-ad70-41360c51fb73",
   "metadata": {},
   "outputs": [],
   "source": [
    "# Read the merged final data from \"final.csv\" into a DataFrame\n",
    "final = pd.read_csv(\"final.csv\")\n",
    "\n",
    "# Create a new column 'Bonus':\n",
    "# For each row, if the project status is 'Finished', set Bonus = 5% of the project Cost\n",
    "# Otherwise, set Bonus to 0\n",
    "final['Bonus'] = final.apply(lambda row: row['Cost'] * 0.05 if row['Status'] == 'Finished' else 0, axis=1)\n",
    "\n",
    "# Save the updated DataFrame (with the Bonus column) back to \"final.csv\" without including the index column\n",
    "final.to_csv(\"final.csv\", index=False)"
   ]
  },
  {
   "cell_type": "markdown",
   "id": "4cb168a2-7e75-4940-a037-c90baffbe56c",
   "metadata": {},
   "source": [
    "TASK - 6\n",
    "\n",
    "Demote the designation level by 1, whose projects have status “fail”. Delete the employees record whose designation level is above 4."
   ]
  },
  {
   "cell_type": "code",
   "execution_count": 17,
   "id": "36889f4d-7599-4219-a957-fcb2f9594d2e",
   "metadata": {},
   "outputs": [],
   "source": [
    "# Load the merged and updated dataset from \"final.csv\" into a DataFrame\n",
    "final = pd.read_csv(\"final.csv\")\n",
    "\n",
    "# For all rows where the project status is 'Failed', decrease (demote) the employee's Designation Level by 1\n",
    "final.loc[final['Status'] == 'Failed', 'Designation Level'] += 1\n",
    "\n",
    "# Keep only the rows where Designation Level is less than or equal to 4\n",
    "# (i.e., delete records where level became more than 4)\n",
    "final = final[final['Designation Level'] <= 4]\n",
    "\n",
    "# Save the filtered and updated DataFrame back to \"final.csv\", without the index column\n",
    "final.to_csv(\"final.csv\", index=False) "
   ]
  },
  {
   "cell_type": "markdown",
   "id": "639cc0bd-7bd2-4f47-a496-05a302ac531e",
   "metadata": {},
   "source": [
    "TASK - 7\n",
    "\n",
    "Add “Mr.” and “Mrs.” to the first name column and drop the gender column."
   ]
  },
  {
   "cell_type": "code",
   "execution_count": 18,
   "id": "e91c1434-6883-4ba0-8b98-9584ba0d52ad",
   "metadata": {},
   "outputs": [],
   "source": [
    "# Load the data from \"final.csv\" into a DataFrame\n",
    "final = pd.read_csv(\"final.csv\")\n",
    "\n",
    "# Add \"Mr.\" or \"Mrs.\" prefix to the 'First Name' column based on the 'Gender' column\n",
    "# If Gender is \"M\", prefix with \"Mr.\", else with \"Mrs.\"\n",
    "final['First Name'] = final.apply(lambda x: (\"Mr. \" if x['Gender'] == \"M\" else \"Mrs. \") + x['First Name'], axis=1)\n",
    "\n",
    "# Drop the 'Gender' column as it is no longer needed\n",
    "final.drop(columns=['Gender'], inplace=True)\n",
    "\n",
    "# Save the updated DataFrame back to \"final.csv\", without writing the index column\n",
    "final.to_csv(\"final.csv\", index=False)"
   ]
  },
  {
   "cell_type": "markdown",
   "id": "b32e25ac-665a-41e7-a26b-5cbc211228ea",
   "metadata": {},
   "source": [
    "TASK - 8 \n",
    "\n",
    "Promote designation level by 1 for the employees whose age is more than 29 years using IF condition."
   ]
  },
  {
   "cell_type": "code",
   "execution_count": 19,
   "id": "2614bf3b-b3a2-4432-8e40-7dab145e7f1b",
   "metadata": {},
   "outputs": [],
   "source": [
    "# Load the final dataset from \"final.csv\"\n",
    "final = pd.read_csv(\"final.csv\")\n",
    "\n",
    "# For employees older than 29 years, increase (promote) their Designation Level by 1\n",
    "final.loc[final['Age'] > 29, 'Designation Level'] -= 1\n",
    "\n",
    "# Save the updated DataFrame back to \"final.csv\" without the index column\n",
    "final.to_csv(\"final.csv\", index=False)"
   ]
  },
  {
   "cell_type": "markdown",
   "id": "7409309e-cc31-49b4-94de-2ff0069d44a3",
   "metadata": {},
   "source": [
    "TASK - 9\n",
    "\n",
    "Add the cost of all projects for each Employee and save it in new dataframe “TotalProjCost” with three columns ID, First Name, and Total cost . "
   ]
  },
  {
   "cell_type": "code",
   "execution_count": 20,
   "id": "0c8e1ac2-ce59-4dc6-b8c9-588173a51179",
   "metadata": {},
   "outputs": [],
   "source": [
    "# Load the merged dataset from \"final.csv\"\n",
    "final = pd.read_csv(\"final.csv\")\n",
    "\n",
    "# Group by 'ID' and 'First Name' and sum the 'Cost' of projects for each employee\n",
    "TotalProjCost = final.groupby(['ID', 'First Name'])['Cost'].sum().reset_index()\n",
    "\n",
    "# Rename columns for clarity\n",
    "TotalProjCost.columns = ['ID', 'First Name', 'Total cost']\n",
    "\n",
    "# Save the new DataFrame to CSV without index\n",
    "TotalProjCost.to_csv(\"total_project_cost.csv\", index=False)"
   ]
  },
  {
   "cell_type": "markdown",
   "id": "98c3ab36-6fbe-48dc-9fb4-7c49bd3d1a1b",
   "metadata": {},
   "source": [
    "TASK - 10\n",
    "\n",
    "Print all the employee details whose city name contains the letter “o” in it."
   ]
  },
  {
   "cell_type": "code",
   "execution_count": 21,
   "id": "0dcd7568-309f-4591-b38d-15bd957367b1",
   "metadata": {},
   "outputs": [
    {
     "data": {
      "text/html": [
       "<div>\n",
       "<style scoped>\n",
       "    .dataframe tbody tr th:only-of-type {\n",
       "        vertical-align: middle;\n",
       "    }\n",
       "\n",
       "    .dataframe tbody tr th {\n",
       "        vertical-align: top;\n",
       "    }\n",
       "\n",
       "    .dataframe thead th {\n",
       "        text-align: right;\n",
       "    }\n",
       "</style>\n",
       "<table border=\"1\" class=\"dataframe\">\n",
       "  <thead>\n",
       "    <tr style=\"text-align: right;\">\n",
       "      <th></th>\n",
       "      <th>ID</th>\n",
       "      <th>Project</th>\n",
       "      <th>Cost</th>\n",
       "      <th>Status</th>\n",
       "      <th>City</th>\n",
       "      <th>Age</th>\n",
       "      <th>First Name</th>\n",
       "      <th>Last Name</th>\n",
       "      <th>Designation Level</th>\n",
       "      <th>Bonus</th>\n",
       "    </tr>\n",
       "  </thead>\n",
       "  <tbody>\n",
       "    <tr>\n",
       "      <th>1</th>\n",
       "      <td>A002</td>\n",
       "      <td>Project 2</td>\n",
       "      <td>2000000.0</td>\n",
       "      <td>Ongoing</td>\n",
       "      <td>London</td>\n",
       "      <td>27</td>\n",
       "      <td>Mrs. Alice</td>\n",
       "      <td>Luxumberg</td>\n",
       "      <td>2</td>\n",
       "      <td>0.0</td>\n",
       "    </tr>\n",
       "    <tr>\n",
       "      <th>3</th>\n",
       "      <td>A004</td>\n",
       "      <td>Project 4</td>\n",
       "      <td>5500000.0</td>\n",
       "      <td>Ongoing</td>\n",
       "      <td>Newyork</td>\n",
       "      <td>31</td>\n",
       "      <td>Mrs. Nina</td>\n",
       "      <td>Adgra</td>\n",
       "      <td>1</td>\n",
       "      <td>0.0</td>\n",
       "    </tr>\n",
       "    <tr>\n",
       "      <th>5</th>\n",
       "      <td>A002</td>\n",
       "      <td>Project 6</td>\n",
       "      <td>680000.0</td>\n",
       "      <td>Failed</td>\n",
       "      <td>London</td>\n",
       "      <td>27</td>\n",
       "      <td>Mrs. Alice</td>\n",
       "      <td>Luxumberg</td>\n",
       "      <td>3</td>\n",
       "      <td>0.0</td>\n",
       "    </tr>\n",
       "    <tr>\n",
       "      <th>11</th>\n",
       "      <td>A004</td>\n",
       "      <td>Project 12</td>\n",
       "      <td>1000000.0</td>\n",
       "      <td>Ongoing</td>\n",
       "      <td>Newyork</td>\n",
       "      <td>31</td>\n",
       "      <td>Mrs. Nina</td>\n",
       "      <td>Adgra</td>\n",
       "      <td>1</td>\n",
       "      <td>0.0</td>\n",
       "    </tr>\n",
       "    <tr>\n",
       "      <th>12</th>\n",
       "      <td>A004</td>\n",
       "      <td>Project 13</td>\n",
       "      <td>3000000.0</td>\n",
       "      <td>Finished</td>\n",
       "      <td>Newyork</td>\n",
       "      <td>31</td>\n",
       "      <td>Mrs. Nina</td>\n",
       "      <td>Adgra</td>\n",
       "      <td>1</td>\n",
       "      <td>150000.0</td>\n",
       "    </tr>\n",
       "  </tbody>\n",
       "</table>\n",
       "</div>"
      ],
      "text/plain": [
       "      ID     Project       Cost    Status     City  Age  First Name  \\\n",
       "1   A002   Project 2  2000000.0   Ongoing   London   27  Mrs. Alice   \n",
       "3   A004   Project 4  5500000.0   Ongoing  Newyork   31   Mrs. Nina   \n",
       "5   A002   Project 6   680000.0    Failed   London   27  Mrs. Alice   \n",
       "11  A004  Project 12  1000000.0   Ongoing  Newyork   31   Mrs. Nina   \n",
       "12  A004  Project 13  3000000.0  Finished  Newyork   31   Mrs. Nina   \n",
       "\n",
       "    Last Name  Designation Level     Bonus  \n",
       "1   Luxumberg                  2       0.0  \n",
       "3       Adgra                  1       0.0  \n",
       "5   Luxumberg                  3       0.0  \n",
       "11      Adgra                  1       0.0  \n",
       "12      Adgra                  1  150000.0  "
      ]
     },
     "execution_count": 21,
     "metadata": {},
     "output_type": "execute_result"
    }
   ],
   "source": [
    "# Load the merged dataset from \"final.csv\" into a DataFrame\n",
    "final = pd.read_csv(\"final.csv\")\n",
    "\n",
    "# Filter rows where the 'City' column contains the letter 'o' (case-insensitive)\n",
    "# .str.lower() converts city names to lowercase\n",
    "# .str.contains('o') checks if 'o' is in the city name\n",
    "result = final[final['City'].str.lower().str.contains('o')]\n",
    "\n",
    "# Print the filtered DataFrame containing employee details\n",
    "result"
   ]
  },
  {
   "cell_type": "code",
   "execution_count": null,
   "id": "1050cabc-3184-43d7-a598-13ff4d8522a2",
   "metadata": {},
   "outputs": [],
   "source": []
  }
 ],
 "metadata": {
  "kernelspec": {
   "display_name": "Python 3 (ipykernel)",
   "language": "python",
   "name": "python3"
  },
  "language_info": {
   "codemirror_mode": {
    "name": "ipython",
    "version": 3
   },
   "file_extension": ".py",
   "mimetype": "text/x-python",
   "name": "python",
   "nbconvert_exporter": "python",
   "pygments_lexer": "ipython3",
   "version": "3.12.7"
  }
 },
 "nbformat": 4,
 "nbformat_minor": 5
}
